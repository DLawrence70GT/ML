{
 "cells": [
  {
   "cell_type": "code",
   "execution_count": 5,
   "metadata": {},
   "outputs": [],
   "source": [
    "import pandas as pd\n",
    "import numpy as np\n",
    "import mlrose_hiive as mlrose"
   ]
  },
  {
   "cell_type": "code",
   "execution_count": 245,
   "metadata": {},
   "outputs": [],
   "source": [
    "#Start with knapsack problem, highlighting the strengths of randomized hill climbing\n",
    "weights = [10, 5, 3, 20, 15, 16, 3, 1, 11, 12]\n",
    "values = [2, 3, 3, 5, 10, 14, 4, 1, 2, 6]\n",
    "max_weight = .5\n",
    "knapsack_fitness_func = mlrose.Knapsack(weights, values, max_weight)\n",
    "knapsack_problem = mlrose.DiscreteOpt(length=10, fitness_fn=knapsack_fitness_func, max_val=2)"
   ]
  },
  {
   "cell_type": "code",
   "execution_count": 249,
   "metadata": {},
   "outputs": [],
   "source": [
    "#Randomized hill cimb up first\n",
    "rhc_knapsack_best_state, rhc_knapsack_best_fitness, rhc_knapsack_fitness_cruve = mlrose.random_hill_climb(\n",
    "    problem=knapsack_problem,\n",
    "    restarts=100,\n",
    "    max_attempts=100,\n",
    "    max_iters=1000,\n",
    "    init_state=np.array([0 for i in range(10)]),\n",
    "    curve=True\n",
    ")\n",
    "#simulated annealing\n",
    "sa_knapsack_best_state, sa_knapsack_best_fitness, sa_knapsack_fitness_cruve = mlrose.simulated_annealing(\n",
    "    problem=knapsack_problem,\n",
    "    schedule=mlrose.ArithDecay(),\n",
    "    max_attempts=100,\n",
    "    max_iters=1000,\n",
    "    init_state=np.array([0 for i in range(10)]),\n",
    "    curve=True\n",
    ")\n",
    "#mimic\n",
    "mimic_knapsack_best_state, mimic_knapsack_best_fitness, mimic_knapsack_fitness_cruve = mlrose.mimic(\n",
    "    problem=knapsack_problem,\n",
    "    max_attempts=100,\n",
    "    max_iters=1000,\n",
    "    curve=True\n",
    ")\n",
    "#genetic algorithm\n",
    "genetic_knapsack_best_state, genetic_knapsack_best_fitness, genetic_knapsack_fitness_cruve = mlrose.genetic_alg(\n",
    "    problem=knapsack_problem,\n",
    "    max_attempts=100,\n",
    "    max_iters=1000,\n",
    "    curve=True\n",
    ")\n"
   ]
  },
  {
   "cell_type": "code",
   "execution_count": null,
   "metadata": {},
   "outputs": [],
   "source": []
  },
  {
   "cell_type": "code",
   "execution_count": null,
   "metadata": {},
   "outputs": [],
   "source": []
  }
 ],
 "metadata": {
  "kernelspec": {
   "display_name": ".venv",
   "language": "python",
   "name": "python3"
  },
  "language_info": {
   "codemirror_mode": {
    "name": "ipython",
    "version": 3
   },
   "file_extension": ".py",
   "mimetype": "text/x-python",
   "name": "python",
   "nbconvert_exporter": "python",
   "pygments_lexer": "ipython3",
   "version": "3.10.12"
  }
 },
 "nbformat": 4,
 "nbformat_minor": 2
}
